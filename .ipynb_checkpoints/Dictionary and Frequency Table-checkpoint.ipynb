{
 "cells": [
  {
   "cell_type": "markdown",
   "metadata": {},
   "source": [
    "Dictionary Is A Key Value Pair"
   ]
  },
  {
   "cell_type": "code",
   "execution_count": 19,
   "metadata": {},
   "outputs": [],
   "source": [
    "dictionary ={}"
   ]
  },
  {
   "cell_type": "code",
   "execution_count": 20,
   "metadata": {},
   "outputs": [
    {
     "data": {
      "text/plain": [
       "dict"
      ]
     },
     "execution_count": 20,
     "metadata": {},
     "output_type": "execute_result"
    }
   ],
   "source": [
    "type(dictionary)"
   ]
  },
  {
   "cell_type": "code",
   "execution_count": 21,
   "metadata": {},
   "outputs": [
    {
     "data": {
      "text/plain": [
       "{'Name': 'umer', 'age': 19, 'salary': 300000.0}"
      ]
     },
     "execution_count": 21,
     "metadata": {},
     "output_type": "execute_result"
    }
   ],
   "source": [
    "employee = {'Name':'umer','age':19,'salary':300000.0}\n",
    "employee"
   ]
  },
  {
   "cell_type": "code",
   "execution_count": 22,
   "metadata": {},
   "outputs": [
    {
     "name": "stdout",
     "output_type": "stream",
     "text": [
      "<class 'dict'>\n"
     ]
    }
   ],
   "source": [
    "print(type(employee))"
   ]
  },
  {
   "cell_type": "code",
   "execution_count": 23,
   "metadata": {},
   "outputs": [
    {
     "data": {
      "text/plain": [
       "'umer'"
      ]
     },
     "execution_count": 23,
     "metadata": {},
     "output_type": "execute_result"
    }
   ],
   "source": [
    "employee['Name']"
   ]
  },
  {
   "cell_type": "code",
   "execution_count": 24,
   "metadata": {},
   "outputs": [
    {
     "ename": "KeyError",
     "evalue": "'name'",
     "output_type": "error",
     "traceback": [
      "\u001b[1;31m---------------------------------------------------------------------------\u001b[0m",
      "\u001b[1;31mKeyError\u001b[0m                                  Traceback (most recent call last)",
      "\u001b[1;32m<ipython-input-24-ca8d46a0c3df>\u001b[0m in \u001b[0;36m<module>\u001b[1;34m()\u001b[0m\n\u001b[1;32m----> 1\u001b[1;33m \u001b[0memployee\u001b[0m\u001b[1;33m[\u001b[0m\u001b[1;34m'name'\u001b[0m\u001b[1;33m]\u001b[0m\u001b[1;33m\u001b[0m\u001b[0m\n\u001b[0m",
      "\u001b[1;31mKeyError\u001b[0m: 'name'"
     ]
    }
   ],
   "source": [
    "employee['name']"
   ]
  },
  {
   "cell_type": "code",
   "execution_count": 25,
   "metadata": {},
   "outputs": [
    {
     "data": {
      "text/plain": [
       "True"
      ]
     },
     "execution_count": 25,
     "metadata": {},
     "output_type": "execute_result"
    }
   ],
   "source": [
    "'age' in employee      #this method would applied only on key"
   ]
  },
  {
   "cell_type": "code",
   "execution_count": 26,
   "metadata": {},
   "outputs": [
    {
     "data": {
      "text/plain": [
       "{'Name': 'Shaheer', 'age': '24', 'salary': 50000}"
      ]
     },
     "execution_count": 26,
     "metadata": {},
     "output_type": "execute_result"
    }
   ],
   "source": [
    "employee2 = {}\n",
    "employee2['Name'] = 'Shaheer'\n",
    "employee2['age'] = '24'\n",
    "employee2['salary'] = 50000\n",
    "employee2"
   ]
  },
  {
   "cell_type": "code",
   "execution_count": 27,
   "metadata": {},
   "outputs": [
    {
     "data": {
      "text/plain": [
       "{'Name': 'sheikh', 'age': 19, 'salary': 300000.0}"
      ]
     },
     "execution_count": 27,
     "metadata": {},
     "output_type": "execute_result"
    }
   ],
   "source": [
    "employee['Name'] = 'sheikh'     #practice\n",
    "employee"
   ]
  },
  {
   "cell_type": "code",
   "execution_count": 30,
   "metadata": {},
   "outputs": [
    {
     "data": {
      "text/plain": [
       "[['id',\n",
       "  'track_name',\n",
       "  'size_bytes',\n",
       "  'currency',\n",
       "  'price',\n",
       "  'rating_count_tot',\n",
       "  'rating_count_ver',\n",
       "  'user_rating',\n",
       "  'user_rating_ver',\n",
       "  'ver',\n",
       "  'cont_rating',\n",
       "  'prime_genre',\n",
       "  'sup_devices.num',\n",
       "  'ipadSc_urls.num',\n",
       "  'lang.num',\n",
       "  'vpp_lic'],\n",
       " ['284882215',\n",
       "  'Facebook',\n",
       "  '389879808',\n",
       "  'USD',\n",
       "  '0.0',\n",
       "  '2974676',\n",
       "  '212',\n",
       "  '3.5',\n",
       "  '3.5',\n",
       "  '95.0',\n",
       "  '4+',\n",
       "  'Social Networking',\n",
       "  '37',\n",
       "  '1',\n",
       "  '29',\n",
       "  '1']]"
      ]
     },
     "execution_count": 30,
     "metadata": {},
     "output_type": "execute_result"
    }
   ],
   "source": [
    "from csv import reader\n",
    "opened = open('AppleStore.csv', encoding = 'utf-8')\n",
    "read = reader(opened)\n",
    "Prc_Dic = list(read)\n",
    "Prc_Dic[0:2]"
   ]
  },
  {
   "cell_type": "code",
   "execution_count": 31,
   "metadata": {},
   "outputs": [
    {
     "data": {
      "text/plain": [
       "5"
      ]
     },
     "execution_count": 31,
     "metadata": {},
     "output_type": "execute_result"
    }
   ],
   "source": [
    "Prc_Dic[0].index('rating_count_tot')"
   ]
  },
  {
   "cell_type": "code",
   "execution_count": 39,
   "metadata": {},
   "outputs": [
    {
     "data": {
      "text/plain": [
       "{'12+': 1155, '17+': 622, '4+': 4433, '9+': 987}"
      ]
     },
     "execution_count": 39,
     "metadata": {},
     "output_type": "execute_result"
    }
   ],
   "source": [
    "cont_rating = {}\n",
    "\n",
    "for x in Prc_Dic[1:]:\n",
    "    content =x[10]\n",
    "    #print(content)\n",
    "    if content in cont_rating:\n",
    "        cont_rating[content] +=1\n",
    "        \n",
    "    else:\n",
    "        cont_rating[content] =1\n",
    "        \n",
    "cont_rating\n",
    "    \n",
    "\n",
    "# SECOND METHOD\n",
    "#cont_rating = {}\n",
    "\n",
    "#for x in Prc_Dic[1:]:\n",
    "    #content =x[10]\n",
    "    #print(content)\n",
    "    #if content not in cont_rating:\n",
    "        #cont_rating[content] =1\n",
    "        \n",
    "    #else:\n",
    "        #cont_rating[content] +=1"
   ]
  },
  {
   "cell_type": "code",
   "execution_count": 38,
   "metadata": {},
   "outputs": [
    {
     "data": {
      "text/plain": [
       "{'Book': 112,\n",
       " 'Business': 57,\n",
       " 'Catalogs': 10,\n",
       " 'Education': 453,\n",
       " 'Entertainment': 535,\n",
       " 'Finance': 104,\n",
       " 'Food & Drink': 63,\n",
       " 'Games': 3862,\n",
       " 'Health & Fitness': 180,\n",
       " 'Lifestyle': 144,\n",
       " 'Medical': 23,\n",
       " 'Music': 138,\n",
       " 'Navigation': 46,\n",
       " 'News': 75,\n",
       " 'Photo & Video': 349,\n",
       " 'Productivity': 178,\n",
       " 'Reference': 64,\n",
       " 'Shopping': 122,\n",
       " 'Social Networking': 167,\n",
       " 'Sports': 114,\n",
       " 'Travel': 81,\n",
       " 'Utilities': 248,\n",
       " 'Weather': 72}"
      ]
     },
     "execution_count": 38,
     "metadata": {},
     "output_type": "execute_result"
    }
   ],
   "source": [
    "Prime_genere = {}\n",
    "\n",
    "for y in Prc_Dic[1:]:\n",
    "    genere =y[11]\n",
    "    \n",
    "    if genere in Prime_genere:\n",
    "        Prime_genere[genere] +=1\n",
    "        \n",
    "    else:\n",
    "        Prime_genere[genere] =1\n",
    "        \n",
    "Prime_genere"
   ]
  },
  {
   "cell_type": "code",
   "execution_count": 43,
   "metadata": {},
   "outputs": [],
   "source": [
    "user_ratings ={}\n",
    "\n",
    "for p in Prc_Dic[1:]:\n",
    "    ratings =p[7]\n",
    "    if ratings not in user_ratings:\n",
    "        user_ratings[ratings] = 1\n",
    "    \n",
    "    else:\n",
    "        user_ratings[ratings] += 1\n",
    "        "
   ]
  },
  {
   "cell_type": "code",
   "execution_count": 44,
   "metadata": {},
   "outputs": [
    {
     "data": {
      "text/plain": [
       "{'0.0': 929,\n",
       " '1.0': 44,\n",
       " '1.5': 56,\n",
       " '2.0': 106,\n",
       " '2.5': 196,\n",
       " '3.0': 383,\n",
       " '3.5': 702,\n",
       " '4.0': 1626,\n",
       " '4.5': 2663,\n",
       " '5.0': 492}"
      ]
     },
     "execution_count": 44,
     "metadata": {},
     "output_type": "execute_result"
    }
   ],
   "source": [
    "user_ratings"
   ]
  },
  {
   "cell_type": "code",
   "execution_count": 45,
   "metadata": {},
   "outputs": [],
   "source": [
    "rating_count_tot = {'0-10000':0,'10001-100000':0,'100001-500000':0,'500001-1000000':0,'1000000+':0}"
   ]
  },
  {
   "cell_type": "code",
   "execution_count": 46,
   "metadata": {},
   "outputs": [
    {
     "data": {
      "text/plain": [
       "{'0-10000': 6181,\n",
       " '1000000+': 6,\n",
       " '100001-500000': 196,\n",
       " '10001-100000': 798,\n",
       " '500001-1000000': 16}"
      ]
     },
     "execution_count": 46,
     "metadata": {},
     "output_type": "execute_result"
    }
   ],
   "source": [
    "for z in Prc_Dic[1:]:\n",
    "    tot_rating = int(z[5])\n",
    "    if 0 <= tot_rating <= 10000:\n",
    "        rating_count_tot['0-10000'] += 1\n",
    "        \n",
    "    elif 10001 <= tot_rating <= 100000:\n",
    "        rating_count_tot['10001-100000'] += 1\n",
    "    \n",
    "    elif 100001 <= tot_rating <= 500000:\n",
    "        rating_count_tot['100001-500000'] += 1\n",
    "        \n",
    "    elif 500001 <= tot_rating <= 1000000:\n",
    "        rating_count_tot['500001-1000000'] += 1\n",
    "        \n",
    "    elif tot_rating > 1000000:\n",
    "        rating_count_tot['1000000+'] += 1\n",
    "rating_count_tot       "
   ]
  }
 ],
 "metadata": {
  "kernelspec": {
   "display_name": "Python 3",
   "language": "python",
   "name": "python3"
  },
  "language_info": {
   "codemirror_mode": {
    "name": "ipython",
    "version": 3
   },
   "file_extension": ".py",
   "mimetype": "text/x-python",
   "name": "python",
   "nbconvert_exporter": "python",
   "pygments_lexer": "ipython3",
   "version": "3.6.4"
  }
 },
 "nbformat": 4,
 "nbformat_minor": 2
}
